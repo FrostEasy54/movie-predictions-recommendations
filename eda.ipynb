{
 "cells": [
  {
   "cell_type": "code",
   "execution_count": null,
   "id": "2a6beb9b",
   "metadata": {},
   "outputs": [],
   "source": [
    "import pandas as pd\n",
    "import numpy as np\n",
    "import matplotlib.pyplot as plt\n",
    "import seaborn as sns\n",
    "from wordcloud import WordCloud, STOPWORDS"
   ]
  },
  {
   "cell_type": "code",
   "execution_count": null,
   "id": "b78441b4",
   "metadata": {},
   "outputs": [],
   "source": [
    "sns.set_theme(style='whitegrid', font_scale=1.1)"
   ]
  },
  {
   "cell_type": "code",
   "execution_count": null,
   "id": "b97b2f5a",
   "metadata": {},
   "outputs": [],
   "source": [
    "df = pd.read_csv('imdb_top_1000.csv')"
   ]
  },
  {
   "cell_type": "code",
   "execution_count": null,
   "id": "ac4b7734",
   "metadata": {},
   "outputs": [],
   "source": [
    "df.dtypes"
   ]
  },
  {
   "cell_type": "code",
   "execution_count": null,
   "id": "f939fd3d",
   "metadata": {},
   "outputs": [],
   "source": [
    "df.info()"
   ]
  },
  {
   "cell_type": "code",
   "execution_count": null,
   "id": "d06b779c",
   "metadata": {},
   "outputs": [],
   "source": [
    "df.head()"
   ]
  },
  {
   "cell_type": "code",
   "execution_count": null,
   "id": "27b34607",
   "metadata": {},
   "outputs": [],
   "source": [
    "df['Released_Year'] = pd.to_numeric(df['Released_Year'], errors='coerce').astype('Int64')\n",
    "df['Runtime'] = df['Runtime'].str.replace(' min', '').astype(int)\n",
    "\n",
    "def clean_gross(x):\n",
    "    try:\n",
    "        return float(x.replace(',', ''))\n",
    "    except:\n",
    "        return np.nan\n",
    "df['Gross'] = df['Gross'].apply(clean_gross)\n",
    "\n",
    "def split_genres(x):\n",
    "    return [g.strip() for g in x.split(',')]\n",
    "df['Genre_list'] = df['Genre'].apply(split_genres)\n",
    "all_genres = df['Genre_list'].explode()"
   ]
  },
  {
   "cell_type": "code",
   "execution_count": null,
   "id": "62d8de75",
   "metadata": {},
   "outputs": [],
   "source": [
    "df.dtypes"
   ]
  },
  {
   "cell_type": "code",
   "execution_count": null,
   "id": "eea21dd8",
   "metadata": {},
   "outputs": [],
   "source": [
    "df.describe()"
   ]
  },
  {
   "cell_type": "code",
   "execution_count": null,
   "id": "3ff5e236",
   "metadata": {},
   "outputs": [],
   "source": [
    "plt.figure(figsize=(10,6))\n",
    "sns.scatterplot(data=df, x='IMDB_Rating', y='Gross', alpha=0.6)\n",
    "sns.regplot(data=df, x='IMDB_Rating', y='Gross', scatter=False, truncate=False)\n",
    "plt.title('Зависимость рейтинга IMDB от кассовых сборов')\n",
    "plt.xlabel('Рейтинг IMDB')\n",
    "plt.ylabel('Кассовые сборы ($ США)')\n",
    "plt.tight_layout()\n",
    "plt.show()"
   ]
  },
  {
   "cell_type": "code",
   "execution_count": null,
   "id": "bc7ebdf4",
   "metadata": {},
   "outputs": [],
   "source": [
    "text = ' '.join(df['Overview'].dropna().tolist())\n",
    "stopwords = set(STOPWORDS)\n",
    "wordcloud = WordCloud(width=800, height=400, background_color='white', stopwords=stopwords).generate(text)\n",
    "\n",
    "plt.figure(figsize=(15,7.5))\n",
    "plt.imshow(wordcloud, interpolation='bilinear')\n",
    "plt.axis('off')\n",
    "plt.title('Облако тэгов обзоров на фильмы')\n",
    "plt.show()"
   ]
  },
  {
   "cell_type": "code",
   "execution_count": null,
   "id": "507ef92d",
   "metadata": {},
   "outputs": [],
   "source": [
    "top5 = all_genres.value_counts().nlargest(5)\n",
    "plt.figure(figsize=(8,5))\n",
    "sns.barplot(x=top5.values, y=top5.index)\n",
    "plt.title('Toп 5 жанров')\n",
    "plt.xlabel('Количество')\n",
    "plt.ylabel('Жанр')\n",
    "plt.tight_layout()\n",
    "plt.show()"
   ]
  },
  {
   "cell_type": "code",
   "execution_count": null,
   "id": "ad19c405",
   "metadata": {},
   "outputs": [],
   "source": [
    "counts = all_genres.value_counts()\n",
    "plt.figure(figsize=(8,8))\n",
    "plt.pie(counts, labels=counts.index, autopct='%1.1f%%', startangle=140)\n",
    "plt.title('Распределение жанров')\n",
    "plt.axis('equal')\n",
    "plt.show()"
   ]
  },
  {
   "cell_type": "code",
   "execution_count": null,
   "id": "d9d5f6f1",
   "metadata": {},
   "outputs": [],
   "source": [
    "actors = pd.Series(df[['Star1','Star2','Star3','Star4']].values.ravel()).value_counts()\n",
    "top5_actors = actors.nlargest(5)\n",
    "sns.barplot(x=top5_actors.values, y=top5_actors.index)\n",
    "plt.title('Топ 5 актёров по количеству фильмов в топ 1000 IMDB')\n",
    "plt.xlabel('Количество')\n",
    "plt.ylabel('Актёр')\n",
    "plt.show()\n"
   ]
  },
  {
   "cell_type": "code",
   "execution_count": null,
   "id": "4bb16e70",
   "metadata": {},
   "outputs": [],
   "source": [
    "from collections import Counter\n",
    "\n",
    "genres_counter = Counter(all_genres)\n",
    "top5_genres = [g for g, _ in genres_counter.most_common(5)]\n",
    "subset = df[df['Genre_list'].apply(lambda gl: any(g in top5_genres for g in gl))]\n",
    "subset['primary_genre'] = subset['Genre_list'].apply(lambda gl: next((g for g in gl if g in top5_genres), None))\n",
    "\n",
    "metrics = ['Runtime', 'No_of_Votes', 'Gross', 'IMDB_Rating']\n",
    "palette = [\"#0c09b6\", \"#08e0e7\", '#FF0000', \"#00A870\", '#fed811']\n",
    "\n",
    "fig, axes = plt.subplots(nrows=2, ncols=2, figsize=(12,8))\n",
    "plt.suptitle('Распределение данных среди топ 5 жанров', fontsize=18, weight=600, color='#333d29')\n",
    "\n",
    "for i, metric in enumerate(metrics):\n",
    "    ax = axes.flatten()[i]\n",
    "    sns.stripplot(data=subset, x='primary_genre', y=metric, ax=ax, palette=palette, jitter=True)\n",
    "    ax.set_xlabel('Жанр')\n",
    "    ax.set_ylabel(metric)\n",
    "    ax.set_title(f'{metric} распределение по жанру')\n",
    "\n",
    "plt.tight_layout(rect=[0, 0.03, 1, 0.95])\n",
    "plt.show()"
   ]
  },
  {
   "cell_type": "code",
   "execution_count": null,
   "id": "81fbf080",
   "metadata": {},
   "outputs": [],
   "source": [
    "corr = df[['Released_Year','Runtime','IMDB_Rating','Meta_score','No_of_Votes','Gross']].corr()\n",
    "sns.heatmap(corr, annot=True, fmt='.2f', cmap='coolwarm')\n",
    "plt.title('Тепловая карта')\n",
    "plt.show()"
   ]
  }
 ],
 "metadata": {
  "kernelspec": {
   "display_name": ".venv",
   "language": "python",
   "name": "python3"
  },
  "language_info": {
   "codemirror_mode": {
    "name": "ipython",
    "version": 3
   },
   "file_extension": ".py",
   "mimetype": "text/x-python",
   "name": "python",
   "nbconvert_exporter": "python",
   "pygments_lexer": "ipython3",
   "version": "3.12.3"
  }
 },
 "nbformat": 4,
 "nbformat_minor": 5
}
